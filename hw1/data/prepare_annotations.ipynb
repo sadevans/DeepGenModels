{
 "cells": [
  {
   "cell_type": "code",
   "execution_count": 1,
   "id": "ddee85f4-0d7e-4307-818b-f618c136dc50",
   "metadata": {},
   "outputs": [
    {
     "data": {
      "text/plain": [
       "True"
      ]
     },
     "execution_count": 1,
     "metadata": {},
     "output_type": "execute_result"
    }
   ],
   "source": [
    "import os\n",
    "import pandas as pd\n",
    "import numpy as np\n",
    "import glob\n",
    "\n",
    "from dotenv import load_dotenv\n",
    "load_dotenv()"
   ]
  },
  {
   "cell_type": "code",
   "execution_count": 2,
   "id": "8511731f-259f-4c65-8ee5-d92ec31e6709",
   "metadata": {},
   "outputs": [],
   "source": [
    "prefix = os.environ.get('PROJECT_DIR')"
   ]
  },
  {
   "cell_type": "code",
   "execution_count": 3,
   "id": "005d0506-e349-4f02-82c6-b4c87a7807e0",
   "metadata": {},
   "outputs": [
    {
     "data": {
      "text/plain": [
       "'/netapp/a.gorokhova/itmo/ImageITMO'"
      ]
     },
     "execution_count": 3,
     "metadata": {},
     "output_type": "execute_result"
    }
   ],
   "source": [
    "prefix"
   ]
  },
  {
   "cell_type": "markdown",
   "id": "477d376d-f234-4c7d-a42f-20cad978d9b8",
   "metadata": {},
   "source": [
    "## Create train annotation - from dataset/train"
   ]
  },
  {
   "cell_type": "code",
   "execution_count": 2,
   "id": "6394b966-6eb7-42ed-86ca-375c272b242a",
   "metadata": {},
   "outputs": [],
   "source": [
    "split = 'train'"
   ]
  },
  {
   "cell_type": "code",
   "execution_count": 15,
   "id": "2f50198f-7cd9-4618-a2a7-67002da53c11",
   "metadata": {},
   "outputs": [],
   "source": [
    "all_images = glob.glob(f'{prefix}/hw_2/data/dataset/{split}/*.jpg')"
   ]
  },
  {
   "cell_type": "code",
   "execution_count": 16,
   "id": "9aa8b98a-3fff-416b-a4d5-e827bde40746",
   "metadata": {},
   "outputs": [
    {
     "data": {
      "text/plain": [
       "['/netapp/a.gorokhova/itmo/ImageITMO//hw_2/data/dataset/train/d92c3421-4131-446a-8379-c948fa50123a.jpg',\n",
       " '/netapp/a.gorokhova/itmo/ImageITMO//hw_2/data/dataset/train/c8b1ec0b-de63-4edf-b62e-b2ca387ee16b.jpg',\n",
       " '/netapp/a.gorokhova/itmo/ImageITMO//hw_2/data/dataset/train/5f70c195-00e1-45c0-af53-f81c07e848fb.jpg']"
      ]
     },
     "execution_count": 16,
     "metadata": {},
     "output_type": "execute_result"
    }
   ],
   "source": [
    "all_images[:3]"
   ]
  },
  {
   "cell_type": "code",
   "execution_count": 17,
   "id": "5d1bd885-48fb-4c42-88ab-640eaca61397",
   "metadata": {},
   "outputs": [
    {
     "data": {
      "text/html": [
       "<div>\n",
       "<style scoped>\n",
       "    .dataframe tbody tr th:only-of-type {\n",
       "        vertical-align: middle;\n",
       "    }\n",
       "\n",
       "    .dataframe tbody tr th {\n",
       "        vertical-align: top;\n",
       "    }\n",
       "\n",
       "    .dataframe thead th {\n",
       "        text-align: right;\n",
       "    }\n",
       "</style>\n",
       "<table border=\"1\" class=\"dataframe\">\n",
       "  <thead>\n",
       "    <tr style=\"text-align: right;\">\n",
       "      <th></th>\n",
       "      <th>image_name</th>\n",
       "    </tr>\n",
       "  </thead>\n",
       "  <tbody>\n",
       "    <tr>\n",
       "      <th>0</th>\n",
       "      <td>/netapp/a.gorokhova/itmo/ImageITMO//hw_2/data/...</td>\n",
       "    </tr>\n",
       "    <tr>\n",
       "      <th>1</th>\n",
       "      <td>/netapp/a.gorokhova/itmo/ImageITMO//hw_2/data/...</td>\n",
       "    </tr>\n",
       "    <tr>\n",
       "      <th>2</th>\n",
       "      <td>/netapp/a.gorokhova/itmo/ImageITMO//hw_2/data/...</td>\n",
       "    </tr>\n",
       "    <tr>\n",
       "      <th>3</th>\n",
       "      <td>/netapp/a.gorokhova/itmo/ImageITMO//hw_2/data/...</td>\n",
       "    </tr>\n",
       "    <tr>\n",
       "      <th>4</th>\n",
       "      <td>/netapp/a.gorokhova/itmo/ImageITMO//hw_2/data/...</td>\n",
       "    </tr>\n",
       "    <tr>\n",
       "      <th>...</th>\n",
       "      <td>...</td>\n",
       "    </tr>\n",
       "    <tr>\n",
       "      <th>9995</th>\n",
       "      <td>/netapp/a.gorokhova/itmo/ImageITMO//hw_2/data/...</td>\n",
       "    </tr>\n",
       "    <tr>\n",
       "      <th>9996</th>\n",
       "      <td>/netapp/a.gorokhova/itmo/ImageITMO//hw_2/data/...</td>\n",
       "    </tr>\n",
       "    <tr>\n",
       "      <th>9997</th>\n",
       "      <td>/netapp/a.gorokhova/itmo/ImageITMO//hw_2/data/...</td>\n",
       "    </tr>\n",
       "    <tr>\n",
       "      <th>9998</th>\n",
       "      <td>/netapp/a.gorokhova/itmo/ImageITMO//hw_2/data/...</td>\n",
       "    </tr>\n",
       "    <tr>\n",
       "      <th>9999</th>\n",
       "      <td>/netapp/a.gorokhova/itmo/ImageITMO//hw_2/data/...</td>\n",
       "    </tr>\n",
       "  </tbody>\n",
       "</table>\n",
       "<p>10000 rows × 1 columns</p>\n",
       "</div>"
      ],
      "text/plain": [
       "                                             image_name\n",
       "0     /netapp/a.gorokhova/itmo/ImageITMO//hw_2/data/...\n",
       "1     /netapp/a.gorokhova/itmo/ImageITMO//hw_2/data/...\n",
       "2     /netapp/a.gorokhova/itmo/ImageITMO//hw_2/data/...\n",
       "3     /netapp/a.gorokhova/itmo/ImageITMO//hw_2/data/...\n",
       "4     /netapp/a.gorokhova/itmo/ImageITMO//hw_2/data/...\n",
       "...                                                 ...\n",
       "9995  /netapp/a.gorokhova/itmo/ImageITMO//hw_2/data/...\n",
       "9996  /netapp/a.gorokhova/itmo/ImageITMO//hw_2/data/...\n",
       "9997  /netapp/a.gorokhova/itmo/ImageITMO//hw_2/data/...\n",
       "9998  /netapp/a.gorokhova/itmo/ImageITMO//hw_2/data/...\n",
       "9999  /netapp/a.gorokhova/itmo/ImageITMO//hw_2/data/...\n",
       "\n",
       "[10000 rows x 1 columns]"
      ]
     },
     "execution_count": 17,
     "metadata": {},
     "output_type": "execute_result"
    }
   ],
   "source": [
    "df = pd.DataFrame({'image_name':all_images})\n",
    "df"
   ]
  },
  {
   "cell_type": "code",
   "execution_count": 18,
   "id": "882917ea-3be0-4620-94bd-f7ccb91ccbf6",
   "metadata": {},
   "outputs": [],
   "source": [
    "os.makedirs(f'{prefix}/hw_2/data/annotations', exist_ok=True)"
   ]
  },
  {
   "cell_type": "code",
   "execution_count": 19,
   "id": "ed4b4662-66d2-4b39-a936-7e9d2085224b",
   "metadata": {},
   "outputs": [],
   "source": [
    "df.to_csv(f'{prefix}/hw_2/data/annotations/train_sample.txt', index=False)"
   ]
  },
  {
   "cell_type": "markdown",
   "id": "d7e37808-790b-44e8-8282-47ec0beb8e63",
   "metadata": {},
   "source": [
    "### Create annotation for threshold"
   ]
  },
  {
   "cell_type": "code",
   "execution_count": null,
   "id": "75329d80-897d-4f05-adc1-942932fb9729",
   "metadata": {},
   "outputs": [],
   "source": []
  },
  {
   "cell_type": "code",
   "execution_count": 20,
   "id": "7af0cbb7-547d-4d69-889f-7c2811fa1392",
   "metadata": {},
   "outputs": [],
   "source": [
    "split = 'proliv'"
   ]
  },
  {
   "cell_type": "code",
   "execution_count": 21,
   "id": "e30b8a1c-e2f6-4c16-9b8d-31751794406a",
   "metadata": {},
   "outputs": [],
   "source": [
    "all_images = glob.glob(f'{prefix}/hw_2/data/dataset/{split}/*.jpg')"
   ]
  },
  {
   "cell_type": "code",
   "execution_count": 22,
   "id": "dbdf62e7-0f01-4acd-83d4-285acf9847ef",
   "metadata": {},
   "outputs": [
    {
     "data": {
      "text/plain": [
       "['/netapp/a.gorokhova/itmo/ImageITMO//hw_2/data/dataset/proliv/30_CAM_C_01-03-2023_05-39-08-227.jpg',\n",
       " '/netapp/a.gorokhova/itmo/ImageITMO//hw_2/data/dataset/proliv/22_CAM_C_01-03-2023_05-38-57-516.jpg',\n",
       " '/netapp/a.gorokhova/itmo/ImageITMO//hw_2/data/dataset/proliv/24_CAM_C_01-03-2023_05-39-16-939.jpg']"
      ]
     },
     "execution_count": 22,
     "metadata": {},
     "output_type": "execute_result"
    }
   ],
   "source": [
    "all_images[:3]"
   ]
  },
  {
   "cell_type": "code",
   "execution_count": 23,
   "id": "b95c4c1c-c98e-4a37-8d13-55cbaab543e2",
   "metadata": {},
   "outputs": [
    {
     "data": {
      "text/html": [
       "<div>\n",
       "<style scoped>\n",
       "    .dataframe tbody tr th:only-of-type {\n",
       "        vertical-align: middle;\n",
       "    }\n",
       "\n",
       "    .dataframe tbody tr th {\n",
       "        vertical-align: top;\n",
       "    }\n",
       "\n",
       "    .dataframe thead th {\n",
       "        text-align: right;\n",
       "    }\n",
       "</style>\n",
       "<table border=\"1\" class=\"dataframe\">\n",
       "  <thead>\n",
       "    <tr style=\"text-align: right;\">\n",
       "      <th></th>\n",
       "      <th>image_name</th>\n",
       "    </tr>\n",
       "  </thead>\n",
       "  <tbody>\n",
       "    <tr>\n",
       "      <th>0</th>\n",
       "      <td>/netapp/a.gorokhova/itmo/ImageITMO//hw_2/data/...</td>\n",
       "    </tr>\n",
       "    <tr>\n",
       "      <th>1</th>\n",
       "      <td>/netapp/a.gorokhova/itmo/ImageITMO//hw_2/data/...</td>\n",
       "    </tr>\n",
       "    <tr>\n",
       "      <th>2</th>\n",
       "      <td>/netapp/a.gorokhova/itmo/ImageITMO//hw_2/data/...</td>\n",
       "    </tr>\n",
       "    <tr>\n",
       "      <th>3</th>\n",
       "      <td>/netapp/a.gorokhova/itmo/ImageITMO//hw_2/data/...</td>\n",
       "    </tr>\n",
       "    <tr>\n",
       "      <th>4</th>\n",
       "      <td>/netapp/a.gorokhova/itmo/ImageITMO//hw_2/data/...</td>\n",
       "    </tr>\n",
       "    <tr>\n",
       "      <th>...</th>\n",
       "      <td>...</td>\n",
       "    </tr>\n",
       "    <tr>\n",
       "      <th>149</th>\n",
       "      <td>/netapp/a.gorokhova/itmo/ImageITMO//hw_2/data/...</td>\n",
       "    </tr>\n",
       "    <tr>\n",
       "      <th>150</th>\n",
       "      <td>/netapp/a.gorokhova/itmo/ImageITMO//hw_2/data/...</td>\n",
       "    </tr>\n",
       "    <tr>\n",
       "      <th>151</th>\n",
       "      <td>/netapp/a.gorokhova/itmo/ImageITMO//hw_2/data/...</td>\n",
       "    </tr>\n",
       "    <tr>\n",
       "      <th>152</th>\n",
       "      <td>/netapp/a.gorokhova/itmo/ImageITMO//hw_2/data/...</td>\n",
       "    </tr>\n",
       "    <tr>\n",
       "      <th>153</th>\n",
       "      <td>/netapp/a.gorokhova/itmo/ImageITMO//hw_2/data/...</td>\n",
       "    </tr>\n",
       "  </tbody>\n",
       "</table>\n",
       "<p>154 rows × 1 columns</p>\n",
       "</div>"
      ],
      "text/plain": [
       "                                            image_name\n",
       "0    /netapp/a.gorokhova/itmo/ImageITMO//hw_2/data/...\n",
       "1    /netapp/a.gorokhova/itmo/ImageITMO//hw_2/data/...\n",
       "2    /netapp/a.gorokhova/itmo/ImageITMO//hw_2/data/...\n",
       "3    /netapp/a.gorokhova/itmo/ImageITMO//hw_2/data/...\n",
       "4    /netapp/a.gorokhova/itmo/ImageITMO//hw_2/data/...\n",
       "..                                                 ...\n",
       "149  /netapp/a.gorokhova/itmo/ImageITMO//hw_2/data/...\n",
       "150  /netapp/a.gorokhova/itmo/ImageITMO//hw_2/data/...\n",
       "151  /netapp/a.gorokhova/itmo/ImageITMO//hw_2/data/...\n",
       "152  /netapp/a.gorokhova/itmo/ImageITMO//hw_2/data/...\n",
       "153  /netapp/a.gorokhova/itmo/ImageITMO//hw_2/data/...\n",
       "\n",
       "[154 rows x 1 columns]"
      ]
     },
     "execution_count": 23,
     "metadata": {},
     "output_type": "execute_result"
    }
   ],
   "source": [
    "df = pd.DataFrame({'image_name':all_images})\n",
    "df"
   ]
  },
  {
   "cell_type": "code",
   "execution_count": 18,
   "id": "926c988c-84b8-4e9a-a9cf-b754a0d2c9c2",
   "metadata": {},
   "outputs": [],
   "source": [
    "os.makedirs(f'{prefix}/hw_2/data/annotations', exist_ok=True)"
   ]
  },
  {
   "cell_type": "code",
   "execution_count": 24,
   "id": "a81f321a-c5f3-4c89-9036-d53b2ad2cbef",
   "metadata": {},
   "outputs": [],
   "source": [
    "df.to_csv(f'{prefix}/hw_2/data/annotations/proliv_sample.txt', index=False)"
   ]
  },
  {
   "cell_type": "markdown",
   "id": "6d474173-eefb-4014-97c6-99bcec0e887a",
   "metadata": {},
   "source": [
    "### Copy test_annotation to annotations"
   ]
  },
  {
   "cell_type": "code",
   "execution_count": 5,
   "id": "9515bf0d-8dc0-49a0-a9e7-a1fe0dd1e1bd",
   "metadata": {},
   "outputs": [],
   "source": [
    "split = 'test'"
   ]
  },
  {
   "cell_type": "code",
   "execution_count": 7,
   "id": "b73e7870-eb16-40ab-baf1-cd4d9b03380e",
   "metadata": {},
   "outputs": [
    {
     "data": {
      "text/html": [
       "<div>\n",
       "<style scoped>\n",
       "    .dataframe tbody tr th:only-of-type {\n",
       "        vertical-align: middle;\n",
       "    }\n",
       "\n",
       "    .dataframe tbody tr th {\n",
       "        vertical-align: top;\n",
       "    }\n",
       "\n",
       "    .dataframe thead th {\n",
       "        text-align: right;\n",
       "    }\n",
       "</style>\n",
       "<table border=\"1\" class=\"dataframe\">\n",
       "  <thead>\n",
       "    <tr style=\"text-align: right;\">\n",
       "      <th></th>\n",
       "      <th>image_name</th>\n",
       "      <th>class</th>\n",
       "    </tr>\n",
       "  </thead>\n",
       "  <tbody>\n",
       "    <tr>\n",
       "      <th>0</th>\n",
       "      <td>9d3893a3-c877-4873-81c5-91aaaea018ea.jpg</td>\n",
       "      <td>0</td>\n",
       "    </tr>\n",
       "    <tr>\n",
       "      <th>1</th>\n",
       "      <td>4f5cef60-bf06-4daf-be8d-a36b06a94a7d.jpg</td>\n",
       "      <td>0</td>\n",
       "    </tr>\n",
       "    <tr>\n",
       "      <th>2</th>\n",
       "      <td>37ee27b2-89a3-4b66-98a4-fb39b682a9c7.jpg</td>\n",
       "      <td>0</td>\n",
       "    </tr>\n",
       "    <tr>\n",
       "      <th>3</th>\n",
       "      <td>43543d1a-24b6-4018-af56-27fe1c1824d6.jpg</td>\n",
       "      <td>0</td>\n",
       "    </tr>\n",
       "    <tr>\n",
       "      <th>4</th>\n",
       "      <td>7f1fab71-7f95-4079-8908-9d1b926c8c25.jpg</td>\n",
       "      <td>0</td>\n",
       "    </tr>\n",
       "    <tr>\n",
       "      <th>...</th>\n",
       "      <td>...</td>\n",
       "      <td>...</td>\n",
       "    </tr>\n",
       "    <tr>\n",
       "      <th>3788</th>\n",
       "      <td>00bd95dc-4f01-404b-9f59-1f1369eb1e99.jpg</td>\n",
       "      <td>0</td>\n",
       "    </tr>\n",
       "    <tr>\n",
       "      <th>3789</th>\n",
       "      <td>09e62c5f-f3bf-4de2-bc76-2e3e7615ba08.jpg</td>\n",
       "      <td>0</td>\n",
       "    </tr>\n",
       "    <tr>\n",
       "      <th>3790</th>\n",
       "      <td>e92ab320-3577-424f-8c32-f5dfb8675932.jpg</td>\n",
       "      <td>0</td>\n",
       "    </tr>\n",
       "    <tr>\n",
       "      <th>3791</th>\n",
       "      <td>db135776-bf7f-4450-83b9-5cc51c1d3ffc.jpg</td>\n",
       "      <td>0</td>\n",
       "    </tr>\n",
       "    <tr>\n",
       "      <th>3792</th>\n",
       "      <td>38d7d789-822b-4f5a-ba71-7a30d5d0e704.jpg</td>\n",
       "      <td>0</td>\n",
       "    </tr>\n",
       "  </tbody>\n",
       "</table>\n",
       "<p>3793 rows × 2 columns</p>\n",
       "</div>"
      ],
      "text/plain": [
       "                                    image_name  class\n",
       "0     9d3893a3-c877-4873-81c5-91aaaea018ea.jpg      0\n",
       "1     4f5cef60-bf06-4daf-be8d-a36b06a94a7d.jpg      0\n",
       "2     37ee27b2-89a3-4b66-98a4-fb39b682a9c7.jpg      0\n",
       "3     43543d1a-24b6-4018-af56-27fe1c1824d6.jpg      0\n",
       "4     7f1fab71-7f95-4079-8908-9d1b926c8c25.jpg      0\n",
       "...                                        ...    ...\n",
       "3788  00bd95dc-4f01-404b-9f59-1f1369eb1e99.jpg      0\n",
       "3789  09e62c5f-f3bf-4de2-bc76-2e3e7615ba08.jpg      0\n",
       "3790  e92ab320-3577-424f-8c32-f5dfb8675932.jpg      0\n",
       "3791  db135776-bf7f-4450-83b9-5cc51c1d3ffc.jpg      0\n",
       "3792  38d7d789-822b-4f5a-ba71-7a30d5d0e704.jpg      0\n",
       "\n",
       "[3793 rows x 2 columns]"
      ]
     },
     "execution_count": 7,
     "metadata": {},
     "output_type": "execute_result"
    }
   ],
   "source": [
    "test = pd.read_csv(f'{prefix}/hw_2/data/dataset/{split}/test_annotation.txt', header=0, delimiter=' ')\n",
    "\n",
    "test.columns = ['image_name', 'class']\n",
    "test"
   ]
  },
  {
   "cell_type": "code",
   "execution_count": 8,
   "id": "fb5e70bb-b326-457a-a3f3-9f2db7c2ec5d",
   "metadata": {},
   "outputs": [],
   "source": [
    "test['image_name'] = test['image_name'].apply(lambda x: os.path.join(f'{prefix}/hw_2/data/dataset/{split}/imgs', x))"
   ]
  },
  {
   "cell_type": "code",
   "execution_count": 9,
   "id": "385fa360-268c-4e2c-b21b-3bda42799a2b",
   "metadata": {},
   "outputs": [
    {
     "data": {
      "text/html": [
       "<div>\n",
       "<style scoped>\n",
       "    .dataframe tbody tr th:only-of-type {\n",
       "        vertical-align: middle;\n",
       "    }\n",
       "\n",
       "    .dataframe tbody tr th {\n",
       "        vertical-align: top;\n",
       "    }\n",
       "\n",
       "    .dataframe thead th {\n",
       "        text-align: right;\n",
       "    }\n",
       "</style>\n",
       "<table border=\"1\" class=\"dataframe\">\n",
       "  <thead>\n",
       "    <tr style=\"text-align: right;\">\n",
       "      <th></th>\n",
       "      <th>image_name</th>\n",
       "      <th>class</th>\n",
       "    </tr>\n",
       "  </thead>\n",
       "  <tbody>\n",
       "    <tr>\n",
       "      <th>0</th>\n",
       "      <td>/netapp/a.gorokhova/itmo/ImageITMO/hw_2/data/d...</td>\n",
       "      <td>0</td>\n",
       "    </tr>\n",
       "    <tr>\n",
       "      <th>1</th>\n",
       "      <td>/netapp/a.gorokhova/itmo/ImageITMO/hw_2/data/d...</td>\n",
       "      <td>0</td>\n",
       "    </tr>\n",
       "    <tr>\n",
       "      <th>2</th>\n",
       "      <td>/netapp/a.gorokhova/itmo/ImageITMO/hw_2/data/d...</td>\n",
       "      <td>0</td>\n",
       "    </tr>\n",
       "    <tr>\n",
       "      <th>3</th>\n",
       "      <td>/netapp/a.gorokhova/itmo/ImageITMO/hw_2/data/d...</td>\n",
       "      <td>0</td>\n",
       "    </tr>\n",
       "    <tr>\n",
       "      <th>4</th>\n",
       "      <td>/netapp/a.gorokhova/itmo/ImageITMO/hw_2/data/d...</td>\n",
       "      <td>0</td>\n",
       "    </tr>\n",
       "    <tr>\n",
       "      <th>...</th>\n",
       "      <td>...</td>\n",
       "      <td>...</td>\n",
       "    </tr>\n",
       "    <tr>\n",
       "      <th>3788</th>\n",
       "      <td>/netapp/a.gorokhova/itmo/ImageITMO/hw_2/data/d...</td>\n",
       "      <td>0</td>\n",
       "    </tr>\n",
       "    <tr>\n",
       "      <th>3789</th>\n",
       "      <td>/netapp/a.gorokhova/itmo/ImageITMO/hw_2/data/d...</td>\n",
       "      <td>0</td>\n",
       "    </tr>\n",
       "    <tr>\n",
       "      <th>3790</th>\n",
       "      <td>/netapp/a.gorokhova/itmo/ImageITMO/hw_2/data/d...</td>\n",
       "      <td>0</td>\n",
       "    </tr>\n",
       "    <tr>\n",
       "      <th>3791</th>\n",
       "      <td>/netapp/a.gorokhova/itmo/ImageITMO/hw_2/data/d...</td>\n",
       "      <td>0</td>\n",
       "    </tr>\n",
       "    <tr>\n",
       "      <th>3792</th>\n",
       "      <td>/netapp/a.gorokhova/itmo/ImageITMO/hw_2/data/d...</td>\n",
       "      <td>0</td>\n",
       "    </tr>\n",
       "  </tbody>\n",
       "</table>\n",
       "<p>3793 rows × 2 columns</p>\n",
       "</div>"
      ],
      "text/plain": [
       "                                             image_name  class\n",
       "0     /netapp/a.gorokhova/itmo/ImageITMO/hw_2/data/d...      0\n",
       "1     /netapp/a.gorokhova/itmo/ImageITMO/hw_2/data/d...      0\n",
       "2     /netapp/a.gorokhova/itmo/ImageITMO/hw_2/data/d...      0\n",
       "3     /netapp/a.gorokhova/itmo/ImageITMO/hw_2/data/d...      0\n",
       "4     /netapp/a.gorokhova/itmo/ImageITMO/hw_2/data/d...      0\n",
       "...                                                 ...    ...\n",
       "3788  /netapp/a.gorokhova/itmo/ImageITMO/hw_2/data/d...      0\n",
       "3789  /netapp/a.gorokhova/itmo/ImageITMO/hw_2/data/d...      0\n",
       "3790  /netapp/a.gorokhova/itmo/ImageITMO/hw_2/data/d...      0\n",
       "3791  /netapp/a.gorokhova/itmo/ImageITMO/hw_2/data/d...      0\n",
       "3792  /netapp/a.gorokhova/itmo/ImageITMO/hw_2/data/d...      0\n",
       "\n",
       "[3793 rows x 2 columns]"
      ]
     },
     "execution_count": 9,
     "metadata": {},
     "output_type": "execute_result"
    }
   ],
   "source": [
    "test"
   ]
  },
  {
   "cell_type": "code",
   "execution_count": 10,
   "id": "49d2ae2a-c4e0-4d29-8a98-7ebf7a8ef0a5",
   "metadata": {},
   "outputs": [],
   "source": [
    "test.to_csv(f'{prefix}/hw_2/data/annotations/test_annotation.txt', index=False)"
   ]
  },
  {
   "cell_type": "code",
   "execution_count": null,
   "id": "df24ca49-a88d-4dc2-9bbb-d6d554ef86ab",
   "metadata": {},
   "outputs": [],
   "source": []
  }
 ],
 "metadata": {
  "kernelspec": {
   "display_name": "image_itmo",
   "language": "python",
   "name": "image_itmo"
  },
  "language_info": {
   "codemirror_mode": {
    "name": "ipython",
    "version": 3
   },
   "file_extension": ".py",
   "mimetype": "text/x-python",
   "name": "python",
   "nbconvert_exporter": "python",
   "pygments_lexer": "ipython3",
   "version": "3.11.5"
  }
 },
 "nbformat": 4,
 "nbformat_minor": 5
}
