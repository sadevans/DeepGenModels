{
 "cells": [
  {
   "cell_type": "code",
   "execution_count": 20,
   "id": "74b9c995",
   "metadata": {},
   "outputs": [],
   "source": [
    "import os\n",
    "import numpy as np\n",
    "from PIL import Image\n",
    "import random\n",
    "from collections import defaultdict\n",
    "from styles import styles, styles_count"
   ]
  },
  {
   "cell_type": "markdown",
   "id": "8b747d26",
   "metadata": {},
   "source": [
    "# Скачиваем данные"
   ]
  },
  {
   "cell_type": "code",
   "execution_count": null,
   "id": "34d05db5",
   "metadata": {},
   "outputs": [
    {
     "name": "stdout",
     "output_type": "stream",
     "text": [
      "Папка imgs успешно скачана!\n"
     ]
    }
   ],
   "source": [
    "import os\n",
    "import requests\n",
    "import zipfile\n",
    "from io import BytesIO\n",
    "\n",
    "repo_url = \"https://github.com/Skyfallk/2025_deep_gen_models\"\n",
    "folder_path = \"HW_1.Bias_gen_and_autoencoders/avatars\"\n",
    "\n",
    "zip_url = f\"{repo_url}/archive/main.zip\"\n",
    "\n",
    "response = requests.get(zip_url)\n",
    "if response.status_code != 200:\n",
    "    raise Exception(\"Не удалось скачать репозиторий\")\n",
    "\n",
    "with zipfile.ZipFile(BytesIO(response.content)) as zip_file:\n",
    "    for file in zip_file.namelist():\n",
    "        if file.startswith(f\"2025_deep_gen_models-main/{folder_path}/\"):\n",
    "            local_path = os.path.join(*file.split(\"/\")[2:])\n",
    "            \n",
    "            if file.endswith('/'):\n",
    "                os.makedirs(local_path, exist_ok=True)\n",
    "            else:\n",
    "                os.makedirs(os.path.dirname(local_path), exist_ok=True)\n",
    "                with open(local_path, 'wb') as f:\n",
    "                    f.write(zip_file.read(file))\n",
    "\n",
    "print(f\"Папка avatars успешно скачана!\")"
   ]
  },
  {
   "cell_type": "markdown",
   "id": "47a2c39d",
   "metadata": {},
   "source": [
    "## Генератор на основе данных о популярных стилях\n",
    "MLE:\n",
    "\n",
    "$P(\\text{стиль}_i) = \\frac{\\text{количество стиля}_i}{\\text{общее количество наблюдений}}$"
   ]
  },
  {
   "cell_type": "code",
   "execution_count": null,
   "id": "2aa1507d",
   "metadata": {},
   "outputs": [],
   "source": [
    "class SimpleStyleGenerator:\n",
    "    def __init__(self):\n",
    "        self.styles = styles\n",
    "        self.styles_count = styles_count\n",
    "        self.total_counts = {category: sum(counts) for category, counts in styles_count.items()}\n",
    "        \n",
    "    def generate_style(self):\n",
    "        avatar_style = {}\n",
    "        log_probability = 0.0\n",
    "        \n",
    "        for category in self.styles:\n",
    "            options = self.styles[category]\n",
    "            counts = self.styles_count[category]\n",
    "            probabilities = np.array(counts) / self.total_counts[category] # MLE\n",
    "            \n",
    "            chosen_idx = np.random.choice(len(options), p=probabilities)\n",
    "            chosen_style = options[chosen_idx]\n",
    "            prob = probabilities[chosen_idx]\n",
    "            \n",
    "            avatar_style[category] = chosen_style\n",
    "            log_probability += np.log(prob)\n",
    "        \n",
    "        probability = np.exp(log_probability)\n",
    "        return avatar_style, probability"
   ]
  },
  {
   "cell_type": "code",
   "execution_count": 9,
   "id": "4918ab8b",
   "metadata": {},
   "outputs": [
    {
     "name": "stdout",
     "output_type": "stream",
     "text": [
      "Сгенерированный стиль:\n",
      "  прическа: нет волос\n",
      "  цвет волос: рыжий\n",
      "  аксесуар: солнцезащитные очки\n",
      "  одежда: футболка с круглым вырезом\n",
      "  цвет одежды: розовый\n",
      "Вероятность генерации: 0.000463\n",
      "\n",
      "Сгенерированный стиль:\n",
      "  прическа: короткая прямые\n",
      "  цвет волос: рыжий\n",
      "  аксесуар: нет очков\n",
      "  одежда: худи\n",
      "  цвет одежды: красный\n",
      "Вероятность генерации: 0.000152\n",
      "\n",
      "Сгенерированный стиль:\n",
      "  прическа: короткая прямые\n",
      "  цвет волос: черный\n",
      "  аксесуар: круглые очки\n",
      "  одежда: футболка с круглым вырезом\n",
      "  цвет одежды: белый\n",
      "Вероятность генерации: 0.000618\n",
      "\n",
      "Сгенерированный стиль:\n",
      "  прическа: короткая прямые\n",
      "  цвет волос: блонд\n",
      "  аксесуар: нет очков\n",
      "  одежда: футболка с круглым вырезом\n",
      "  цвет одежды: серый\n",
      "Вероятность генерации: 0.000265\n",
      "\n",
      "Сгенерированный стиль:\n",
      "  прическа: длинные прямые\n",
      "  цвет волос: черный\n",
      "  аксесуар: круглые очки\n",
      "  одежда: футболка с круглым вырезом\n",
      "  цвет одежды: синий\n",
      "Вероятность генерации: 0.001077\n",
      "\n"
     ]
    }
   ],
   "source": [
    "generator = SimpleStyleGenerator()\n",
    "for _ in range(5):\n",
    "    style, prob = generator.generate_style()\n",
    "    print(\"Сгенерированный стиль:\")\n",
    "    for k, v in style.items():\n",
    "        print(f\"  {k}: {v}\")\n",
    "    print(f\"Вероятность генерации: {prob:.6f}\\n\")"
   ]
  },
  {
   "cell_type": "markdown",
   "id": "e7685c01",
   "metadata": {},
   "source": [
    "## Пиксельный генератор стилей"
   ]
  },
  {
   "cell_type": "markdown",
   "id": "aa0e03b0",
   "metadata": {},
   "source": [
    "мне кажется тут все не так и я не успеваю до дедлайна"
   ]
  },
  {
   "cell_type": "code",
   "execution_count": null,
   "id": "42ad2fb2",
   "metadata": {},
   "outputs": [],
   "source": [
    "import pprint\n",
    "class PixelAvatarGenerator:\n",
    "    def __init__(self, folder):\n",
    "        self.folder = folder\n",
    "        self.pixel_probs = self._compute_pixel_distributions()\n",
    "        pprint.pprint(self.pixel_probs[10][10][0])\n",
    "\n",
    "\n",
    "    def _compute_pixel_distributions(self):\n",
    "        # Собираем все изображения\n",
    "        image_arrays = []\n",
    "        for fname in os.listdir(self.folder):\n",
    "            if fname.lower().endswith(('.png', '.jpg', '.jpeg')):\n",
    "                try:\n",
    "                    img = Image.open(os.path.join(self.folder, fname)).convert('RGB')\n",
    "                    image_arrays.append(np.array(img))\n",
    "                except Exception as e:\n",
    "                    print(f\"Ошибка при загрузке {fname}: {e}\")\n",
    "        \n",
    "        if not image_arrays:\n",
    "            raise ValueError(\"Не найдено подходящих изображений в папке\")\n",
    "        \n",
    "        images = np.stack(image_arrays)\n",
    "        h, w, c = images.shape[1:]\n",
    "        \n",
    "        # Добавим сглаживание Лапласа для избежания нулевых вероятностей\n",
    "        laplace_alpha = 1\n",
    "        \n",
    "        pixel_probs = []\n",
    "        for y in range(h):\n",
    "            row = []\n",
    "            for x in range(w):\n",
    "                channel_probs = []\n",
    "                for ch in range(c):\n",
    "                    # Получаем уникальные значения и их частоты\n",
    "                    values, counts = np.unique(images[:, y, x, ch], return_counts=True)\n",
    "                    \n",
    "                    # Создаем полное распределение (0-255) со сглаживанием\n",
    "                    full_probs = np.ones(256) * laplace_alpha\n",
    "                    for v, cnt in zip(values, counts):\n",
    "                        full_probs[v] += cnt\n",
    "                    \n",
    "                    # Нормализуем\n",
    "                    full_probs = full_probs / full_probs.sum()\n",
    "                    \n",
    "                    # Сохраняем как словарь для экономии памяти (только ненулевые значения)\n",
    "                    prob_dict = {i: float(full_probs[i]) for i in np.where(full_probs > laplace_alpha/256)[0]}\n",
    "                    channel_probs.append(prob_dict)\n",
    "                row.append(channel_probs)\n",
    "            pixel_probs.append(row)\n",
    "        \n",
    "        return pixel_probs\n",
    "\n",
    "    def generate(self):\n",
    "        h = len(self.pixel_probs)\n",
    "        w = len(self.pixel_probs[0])\n",
    "        avatar = np.zeros((h, w, 3), dtype=np.uint8)\n",
    "        total_log_prob = 0.0\n",
    "\n",
    "        for y in range(h):\n",
    "            for x in range(w):\n",
    "                for ch in range(3):\n",
    "                    probs = self.pixel_probs[y][x][ch]\n",
    "                    \n",
    "                    if not probs:\n",
    "                        avatar[y, x, ch] = 0\n",
    "                        continue\n",
    "                    \n",
    "                    # Нормализуем вероятности\n",
    "                    values, weights = zip(*probs.items())\n",
    "                    weights = np.array(weights, dtype=np.float64)\n",
    "                    weights /= weights.sum()\n",
    "                    \n",
    "                    # Выбираем значение\n",
    "                    choice = np.random.choice(values, p=weights)\n",
    "                    avatar[y, x, ch] = choice\n",
    "                    total_log_prob += np.log(weights[values.index(choice)])\n",
    "        \n",
    "        return Image.fromarray(avatar), np.exp(total_log_prob)\n"
   ]
  },
  {
   "cell_type": "code",
   "execution_count": 35,
   "id": "9f4f62d8",
   "metadata": {},
   "outputs": [
    {
     "name": "stdout",
     "output_type": "stream",
     "text": [
      "{0: 0.0449438202247191}\n",
      "Вероятность генерации аватара 0: 0.0000000000\n",
      "Вероятность генерации аватара 1: 0.0000000000\n",
      "Вероятность генерации аватара 2: 0.0000000000\n",
      "Вероятность генерации аватара 3: 0.0000000000\n",
      "Вероятность генерации аватара 4: 0.0000000000\n"
     ]
    }
   ],
   "source": [
    "generator = PixelAvatarGenerator(folder='avatars')\n",
    "for i in range(5):\n",
    "    avatar, prob = generator.generate()\n",
    "    avatar.save(f'generated_avatar_{i}.png')\n",
    "    print(f\"Вероятность генерации аватара {i}: {prob:.10f}\")"
   ]
  },
  {
   "cell_type": "code",
   "execution_count": null,
   "id": "2d174fa6",
   "metadata": {},
   "outputs": [],
   "source": []
  }
 ],
 "metadata": {
  "kernelspec": {
   "display_name": "image_itmo",
   "language": "python",
   "name": "python3"
  },
  "language_info": {
   "codemirror_mode": {
    "name": "ipython",
    "version": 3
   },
   "file_extension": ".py",
   "mimetype": "text/x-python",
   "name": "python",
   "nbconvert_exporter": "python",
   "pygments_lexer": "ipython3",
   "version": "3.11.5"
  }
 },
 "nbformat": 4,
 "nbformat_minor": 5
}
